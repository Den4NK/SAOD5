{
 "cells": [
  {
   "cell_type": "markdown",
   "id": "24d64e47",
   "metadata": {},
   "source": [
    "# Лабораторная работа №5"
   ]
  },
  {
   "cell_type": "markdown",
   "id": "3ed0a53e",
   "metadata": {},
   "source": [
    "## Выполнил студент группы БСТ2002 Пресняков Данил Русланович"
   ]
  },
  {
   "cell_type": "markdown",
   "id": "6599aa2c",
   "metadata": {},
   "source": [
    "# Задание\n",
    "## Вариант: 14\n",
    "## Реализовать генерацию Кривой Гилберта с применением рекурсивных функций. Добавить возможность задания глубины фрактала.Оценить глубину рекурсии.Построить таблицу зависимости времени построения от глубины фрактала."
   ]
  },
  {
   "cell_type": "code",
   "execution_count": 1,
   "id": "df536407",
   "metadata": {},
   "outputs": [
    {
     "name": "stdout",
     "output_type": "stream",
     "text": [
      "Введите глубину: 4\n",
      "Глубина рекурсии: 256\n",
      "Время выполнения: 79.25646328926086\n"
     ]
    }
   ],
   "source": [
    "import time\n",
    "from turtle import *\n",
    "\n",
    "cnt = 0\n",
    "\n",
    "\n",
    "def hilbert(level, angle, step):\n",
    "    global cnt\n",
    "\n",
    "    if level == 0:\n",
    "        cnt += 1\n",
    "        return\n",
    "\n",
    "    right(angle)\n",
    "\n",
    "    hilbert(level - 1, -angle, step)\n",
    "\n",
    "    forward(step)\n",
    "    left(angle)\n",
    "\n",
    "    hilbert(level - 1, angle, step)\n",
    "\n",
    "    forward(step)\n",
    "\n",
    "    hilbert(level - 1, angle, step)\n",
    "\n",
    "    left(angle)\n",
    "    forward(step)\n",
    "\n",
    "    hilbert(level - 1, -angle, step)\n",
    "    right(angle)\n",
    "\n",
    "\n",
    "level = int(input(\"Введите глубину: \"))\n",
    "size = 550\n",
    "penup()\n",
    "goto(-size / 2.0, size / 2.0)\n",
    "pendown()\n",
    "\n",
    "prev_t = time.time()\n",
    "hilbert(level, 90, size / (2 ** level - 1))\n",
    "cur_t = time.time() - prev_t\n",
    "print(f\"Глубина рекурсии: {cnt}\\nВремя выполнения: {cur_t}\")\n",
    "done()"
   ]
  }
 ],
 "metadata": {
  "kernelspec": {
   "display_name": "Python 3 (ipykernel)",
   "language": "python",
   "name": "python3"
  },
  "language_info": {
   "codemirror_mode": {
    "name": "ipython",
    "version": 3
   },
   "file_extension": ".py",
   "mimetype": "text/x-python",
   "name": "python",
   "nbconvert_exporter": "python",
   "pygments_lexer": "ipython3",
   "version": "3.10.2"
  }
 },
 "nbformat": 4,
 "nbformat_minor": 5
}
